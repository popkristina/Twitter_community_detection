{
 "cells": [
  {
   "cell_type": "markdown",
   "metadata": {
    "collapsed": true
   },
   "source": [
    "Analysis of the 2016 presidential elections tweets"
   ]
  },
  {
   "cell_type": "code",
   "execution_count": 62,
   "metadata": {},
   "outputs": [],
   "source": [
    "import pandas as pd\n",
    "import networkx as nx\n",
    "import matplotlib.pyplot as plt"
   ]
  },
  {
   "cell_type": "code",
   "execution_count": 104,
   "metadata": {},
   "outputs": [
    {
     "name": "stdout",
     "output_type": "stream",
     "text": [
      "<class 'pandas.core.frame.DataFrame'>\n",
      "Int64Index: 100000 entries, 203274 to 124232\n",
      "Data columns (total 3 columns):\n",
      "user_screen        99962 non-null object\n",
      "original_author    99962 non-null object\n",
      "tweet_text         99962 non-null object\n",
      "dtypes: object(3)\n",
      "memory usage: 3.1+ MB\n"
     ]
    }
   ],
   "source": [
    "data = pd.read_csv(\"data.csv\")\n",
    "#subset = data.sample(n = 100000)\n",
    "#subset = subset.drop(['id','user_location','user_id','created_at','retweet_count','user_following','user_followers','user_statuses','favorite_count','user_friends'],axis=1)\n",
    "subset.info()"
   ]
  },
  {
   "cell_type": "markdown",
   "metadata": {},
   "source": [
    "The graph will be a directed multi graph where the source is the author of the tweet, and the target is the original author of the tweet.\n",
    "\n",
    "We will need to remove the rows where we don't have an original author, i.e. the tweets that aren't retweets or quotes\n"
   ]
  },
  {
   "cell_type": "code",
   "execution_count": 105,
   "metadata": {},
   "outputs": [],
   "source": [
    "tmp = subset.loc[subset['tweet_text'] != \"Null\"]\n",
    "tmp = tmp.loc[tmp['original_author'] != \"Null\"]"
   ]
  },
  {
   "cell_type": "code",
   "execution_count": 107,
   "metadata": {},
   "outputs": [
    {
     "data": {
      "text/html": [
       "<div>\n",
       "<style scoped>\n",
       "    .dataframe tbody tr th:only-of-type {\n",
       "        vertical-align: middle;\n",
       "    }\n",
       "\n",
       "    .dataframe tbody tr th {\n",
       "        vertical-align: top;\n",
       "    }\n",
       "\n",
       "    .dataframe thead th {\n",
       "        text-align: right;\n",
       "    }\n",
       "</style>\n",
       "<table border=\"1\" class=\"dataframe\">\n",
       "  <thead>\n",
       "    <tr style=\"text-align: right;\">\n",
       "      <th></th>\n",
       "      <th>user_screen</th>\n",
       "      <th>original_author</th>\n",
       "      <th>tweet_text</th>\n",
       "    </tr>\n",
       "  </thead>\n",
       "  <tbody>\n",
       "    <tr>\n",
       "      <th>140786</th>\n",
       "      <td>Anevilweasel</td>\n",
       "      <td>FrankTheDoorman</td>\n",
       "      <td>RT @FrankTheDoorman: \"Hillary Clinton doesn't ...</td>\n",
       "    </tr>\n",
       "    <tr>\n",
       "      <th>12302</th>\n",
       "      <td>mrpshropshire</td>\n",
       "      <td>ggreenwald</td>\n",
       "      <td>RT @ggreenwald: Another poll showing Trump in ...</td>\n",
       "    </tr>\n",
       "    <tr>\n",
       "      <th>6359</th>\n",
       "      <td>Andrianamik</td>\n",
       "      <td>realDonaldTrump</td>\n",
       "      <td>RT @realDonaldTrump: My thoughts and prayers a...</td>\n",
       "    </tr>\n",
       "    <tr>\n",
       "      <th>143460</th>\n",
       "      <td>anyabelisle</td>\n",
       "      <td>samstein</td>\n",
       "      <td>RT @samsteinhp: Damn. this ad from Clinton \\r\\...</td>\n",
       "    </tr>\n",
       "    <tr>\n",
       "      <th>61467</th>\n",
       "      <td>studumpling</td>\n",
       "      <td>ch000ch</td>\n",
       "      <td>RT @ch000ch: TRUMP: i grab women by the pussy\\...</td>\n",
       "    </tr>\n",
       "    <tr>\n",
       "      <th>...</th>\n",
       "      <td>...</td>\n",
       "      <td>...</td>\n",
       "      <td>...</td>\n",
       "    </tr>\n",
       "    <tr>\n",
       "      <th>145033</th>\n",
       "      <td>clannadlore</td>\n",
       "      <td>SheriffClarke</td>\n",
       "      <td>RT @SheriffClarke: The best thing about Clinto...</td>\n",
       "    </tr>\n",
       "    <tr>\n",
       "      <th>131669</th>\n",
       "      <td>taylor__brooke_</td>\n",
       "      <td>daannnnnnyyyyy</td>\n",
       "      <td>RT @DanielEggerding: This is why we cannot let...</td>\n",
       "    </tr>\n",
       "    <tr>\n",
       "      <th>63273</th>\n",
       "      <td>SeatMA1</td>\n",
       "      <td>KattLivesMatter</td>\n",
       "      <td>RT @KatQ1: OUTED-HIll Can Run From Her Lies Bu...</td>\n",
       "    </tr>\n",
       "    <tr>\n",
       "      <th>24955</th>\n",
       "      <td>KeithPullin</td>\n",
       "      <td>realDonaldTrump</td>\n",
       "      <td>RT @realDonaldTrump: My thoughts and prayers a...</td>\n",
       "    </tr>\n",
       "    <tr>\n",
       "      <th>146615</th>\n",
       "      <td>Bank0le</td>\n",
       "      <td>LittleMissFlint</td>\n",
       "      <td>RT @LoveMeLuLu22: if you can share the #trump ...</td>\n",
       "    </tr>\n",
       "  </tbody>\n",
       "</table>\n",
       "<p>100 rows × 3 columns</p>\n",
       "</div>"
      ],
      "text/plain": [
       "            user_screen  original_author  \\\n",
       "140786     Anevilweasel  FrankTheDoorman   \n",
       "12302     mrpshropshire       ggreenwald   \n",
       "6359        Andrianamik  realDonaldTrump   \n",
       "143460      anyabelisle         samstein   \n",
       "61467       studumpling          ch000ch   \n",
       "...                 ...              ...   \n",
       "145033      clannadlore    SheriffClarke   \n",
       "131669  taylor__brooke_   daannnnnnyyyyy   \n",
       "63273           SeatMA1  KattLivesMatter   \n",
       "24955       KeithPullin  realDonaldTrump   \n",
       "146615          Bank0le  LittleMissFlint   \n",
       "\n",
       "                                               tweet_text  \n",
       "140786  RT @FrankTheDoorman: \"Hillary Clinton doesn't ...  \n",
       "12302   RT @ggreenwald: Another poll showing Trump in ...  \n",
       "6359    RT @realDonaldTrump: My thoughts and prayers a...  \n",
       "143460  RT @samsteinhp: Damn. this ad from Clinton \\r\\...  \n",
       "61467   RT @ch000ch: TRUMP: i grab women by the pussy\\...  \n",
       "...                                                   ...  \n",
       "145033  RT @SheriffClarke: The best thing about Clinto...  \n",
       "131669  RT @DanielEggerding: This is why we cannot let...  \n",
       "63273   RT @KatQ1: OUTED-HIll Can Run From Her Lies Bu...  \n",
       "24955   RT @realDonaldTrump: My thoughts and prayers a...  \n",
       "146615  RT @LoveMeLuLu22: if you can share the #trump ...  \n",
       "\n",
       "[100 rows x 3 columns]"
      ]
     },
     "execution_count": 107,
     "metadata": {},
     "output_type": "execute_result"
    }
   ],
   "source": [
    "tmp.head(100)"
   ]
  },
  {
   "cell_type": "code",
   "execution_count": 108,
   "metadata": {},
   "outputs": [],
   "source": [
    "import networkx as nx\n",
    "retweets_G = nx.from_pandas_edgelist(tmp, source='user_screen',\n",
    "                                     target='original_author',\n",
    "                                     edge_attr=True,\n",
    "                                     create_using=nx.MultiDiGraph())"
   ]
  },
  {
   "cell_type": "code",
   "execution_count": 109,
   "metadata": {},
   "outputs": [],
   "source": [
    "nx.write_edgelist(retweets_G, 'retweets_graph.csv')"
   ]
  },
  {
   "cell_type": "code",
   "execution_count": 110,
   "metadata": {},
   "outputs": [
    {
     "name": "stdout",
     "output_type": "stream",
     "text": [
      "The graph has 40673 nodes and 50880 edges\n"
     ]
    }
   ],
   "source": [
    "print(\"The graph has\", len(retweets_G.nodes), \"nodes and\", len(retweets_G.edges), \"edges\")"
   ]
  },
  {
   "cell_type": "code",
   "execution_count": 111,
   "metadata": {},
   "outputs": [
    {
     "name": "stdout",
     "output_type": "stream",
     "text": [
      "Name: \n",
      "Type: MultiDiGraph\n",
      "Number of nodes: 40673\n",
      "Number of edges: 50880\n",
      "Average in degree:   1.2510\n",
      "Average out degree:   1.2510\n"
     ]
    }
   ],
   "source": [
    "print(nx.info(retweets_G))"
   ]
  },
  {
   "cell_type": "code",
   "execution_count": 112,
   "metadata": {},
   "outputs": [
    {
     "data": {
      "text/plain": [
       "3.0757098752900236e-05"
      ]
     },
     "execution_count": 112,
     "metadata": {},
     "output_type": "execute_result"
    }
   ],
   "source": [
    "nx.density(retweets_G)"
   ]
  },
  {
   "cell_type": "code",
   "execution_count": 113,
   "metadata": {},
   "outputs": [
    {
     "data": {
      "text/plain": [
       "373"
      ]
     },
     "execution_count": 113,
     "metadata": {},
     "output_type": "execute_result"
    }
   ],
   "source": [
    "nx.number_of_selfloops(retweets_G)"
   ]
  },
  {
   "cell_type": "code",
   "execution_count": 114,
   "metadata": {},
   "outputs": [
    {
     "data": {
      "text/plain": [
       "-0.008811534707932474"
      ]
     },
     "execution_count": 114,
     "metadata": {},
     "output_type": "execute_result"
    }
   ],
   "source": [
    "nx.degree_assortativity_coefficient(retweets_G)"
   ]
  },
  {
   "cell_type": "markdown",
   "metadata": {},
   "source": [
    "Network degrees"
   ]
  },
  {
   "cell_type": "code",
   "execution_count": 115,
   "metadata": {},
   "outputs": [],
   "source": [
    "import numpy as np\n",
    "import seaborn as sns"
   ]
  },
  {
   "cell_type": "code",
   "execution_count": 116,
   "metadata": {},
   "outputs": [],
   "source": [
    "sns.set()"
   ]
  },
  {
   "cell_type": "code",
   "execution_count": 117,
   "metadata": {},
   "outputs": [],
   "source": [
    "def get_frequencies(degree_dict):\n",
    "    degree_freq = {}\n",
    "\n",
    "    for node, deg in degree_dict.items():\n",
    "        if deg in degree_freq:\n",
    "            degree_freq[deg] += 1\n",
    "        else:\n",
    "            degree_freq[deg] = 1\n",
    "\n",
    "    x = sorted(degree_freq.keys())\n",
    "    y = [degree_freq[k] for k in x]\n",
    "    return x, y"
   ]
  },
  {
   "cell_type": "code",
   "execution_count": 118,
   "metadata": {},
   "outputs": [
    {
     "data": {
      "image/png": "[encoded data removed]",
      "text/plain": [
       "<Figure size 432x288 with 1 Axes>"
      ]
     },
     "metadata": {},
     "output_type": "display_data"
    }
   ],
   "source": [
    "x, y = get_frequencies(dict(retweets_G.out_degree(set(data.user_screen))))\n",
    "# log-log scale\n",
    "plt.title(\"out degree\")\n",
    "plt.loglog(x, y, linestyle='None', marker='.', )\n",
    "plt.show()"
   ]
  },
  {
   "cell_type": "code",
   "execution_count": 119,
   "metadata": {},
   "outputs": [
    {
     "data": {
      "image/png": "[encoded data removed]",
      "text/plain": [
       "<Figure size 432x288 with 1 Axes>"
      ]
     },
     "metadata": {},
     "output_type": "display_data"
    }
   ],
   "source": [
    "x, y = get_frequencies(dict(retweets_G.in_degree(set(data.user_screen))))\n",
    "# log-log scale\n",
    "plt.title(\"in degree\")\n",
    "plt.loglog(x, y, linestyle='None', marker='.', )\n",
    "plt.show()"
   ]
  },
  {
   "cell_type": "markdown",
   "metadata": {},
   "source": [
    "\n",
    "Friendship paradox\n",
    "\n",
    "The friendship paradox is the phenomenon first observed by the sociologist Scott L. Feld in 1991 that most people have fewer friends than their friends have, on average.\n"
   ]
  },
  {
   "cell_type": "code",
   "execution_count": 120,
   "metadata": {},
   "outputs": [],
   "source": [
    "node_degrees = {}\n",
    "for node, avg in nx.average_neighbor_degree(retweets_G, source='in').items():\n",
    "    node_degrees[node] = (retweets_G.in_degree[node], avg)\n",
    "    \n",
    "# node_degrees = [(o, a) for (o, a) in node_degrees.values()]"
   ]
  },
  {
   "cell_type": "code",
   "execution_count": 121,
   "metadata": {},
   "outputs": [
    {
     "data": {
      "image/png": "[encoded data removed]",
      "text/plain": [
       "<Figure size 1080x360 with 1 Axes>"
      ]
     },
     "metadata": {},
     "output_type": "display_data"
    },
    {
     "name": "stdout",
     "output_type": "stream",
     "text": [
      "Тhе Paradox is true for 75.64% of the total population. That is 30764 of 40673 total nodes. \n",
      "On average their neighbors have 0.39 more retweets.\n"
     ]
    }
   ],
   "source": [
    "# node_degrees.sort(key=lambda tup: tup[1], reverse=True)\n",
    "\n",
    "plt.figure(figsize=(15,5))\n",
    "# plot average neighbors degrees\n",
    "plt.plot([a for (_, a) in node_degrees.values()], label=\"Average node's neighbors' neighbors\")\n",
    "# plot nodes' degrees\n",
    "plt.plot([o for (o, _) in node_degrees.values()], label=\"Node's neighbors\")\n",
    "plt.legend(loc='upper right')\n",
    "plt.ylabel('Out degree')\n",
    "\n",
    "# remove x-axis tics\n",
    "plt.xticks([])\n",
    "\n",
    "paradox_num = 0 # number of nodes that have the friendship paradox\n",
    "avg_deviation = 0 # average more friends\n",
    "for out, avg in node_degrees.values():\n",
    "    if avg >= out:\n",
    "        paradox_num += 1\n",
    "        avg_deviation += avg - out\n",
    "        \n",
    "avg_deviation /= len(node_degrees.values())\n",
    "percent = paradox_num / len(node_degrees.values()) * 100\n",
    "plt.show()\n",
    "print(\"Тhе Paradox is true for {:.2f}% of the total population. That is {} of {} total nodes.\"\n",
    "      .format(percent, paradox_num, len(node_degrees.values())),\n",
    "     \"\\nOn average their neighbors have {:.2f} more retweets.\".format(avg_deviation))"
   ]
  },
  {
   "cell_type": "markdown",
   "metadata": {},
   "source": [
    "# Calculating PageRank for the network"
   ]
  },
  {
   "cell_type": "markdown",
   "metadata": {},
   "source": [
    "These are from the smaller subset graph"
   ]
  },
  {
   "cell_type": "code",
   "execution_count": 122,
   "metadata": {},
   "outputs": [],
   "source": [
    "page_rank = nx.pagerank_scipy(retweets_G)"
   ]
  },
  {
   "cell_type": "markdown",
   "metadata": {},
   "source": [
    "And displaying the top 30"
   ]
  },
  {
   "cell_type": "code",
   "execution_count": 123,
   "metadata": {},
   "outputs": [
    {
     "data": {
      "text/plain": [
       "[('realDonaldTrump', 0.02801488328703519),\n",
       " ('HillaryClinton', 0.011386866839280634),\n",
       " ('wikileaks', 0.008264961598818071),\n",
       " ('thehill', 0.004388230001876851),\n",
       " ('KellyannePolls', 0.0041738945851675325),\n",
       " ('Zeddary', 0.0037972398982888266),\n",
       " ('mitchellvii', 0.003364776888102119),\n",
       " ('CNNPolitics', 0.003052063143423849),\n",
       " ('double_cupp_me', 0.002949822116835278),\n",
       " ('FoxNews', 0.002612626074749075),\n",
       " ('LittleMissFlint', 0.0025739816163930992),\n",
       " ('CNN', 0.0023904201837495445),\n",
       " ('brazenqueer', 0.002368556906012251),\n",
       " ('nytimes', 0.0022879793853025038),\n",
       " ('TeamTrump', 0.002285809940610507),\n",
       " ('PrisonPlanet', 0.0022756358040606126),\n",
       " ('mike_pence', 0.0022298835322923814),\n",
       " ('TrumpSuperPAC', 0.0021986993911184563),\n",
       " ('LindaSuhler', 0.0021842279213765046),\n",
       " ('SethMacFarlane', 0.0021137892328253133),\n",
       " ('jonfavs', 0.0020915983056219345),\n",
       " ('samstein', 0.0019326731235743224),\n",
       " ('tonyschwartz', 0.001575840110715458),\n",
       " ('chrislhayes', 0.0015220513112504763),\n",
       " ('SopanDeb', 0.0014954266435799784),\n",
       " ('DonaldJTrumpJr', 0.0014738648050593884),\n",
       " ('RealJamesWoods', 0.0014692633665301582),\n",
       " ('BigStick2013', 0.0014135557800499642),\n",
       " ('BernieSanders', 0.001404619703042038),\n",
       " ('dcexaminer', 0.0012831648945916432)]"
      ]
     },
     "execution_count": 123,
     "metadata": {},
     "output_type": "execute_result"
    }
   ],
   "source": [
    "sorted(page_rank.items(), key=lambda kv: kv[1], reverse=True)[:30]"
   ]
  },
  {
   "cell_type": "markdown",
   "metadata": {},
   "source": [
    "Community detection"
   ]
  },
  {
   "cell_type": "code",
   "execution_count": 127,
   "metadata": {},
   "outputs": [
    {
     "ename": "ParserError",
     "evalue": "Error tokenizing data. C error: Expected 6 fields in line 4582, saw 8\n",
     "output_type": "error",
     "traceback": [
      "\u001b[1;31m---------------------------------------------------------------------------\u001b[0m",
      "\u001b[1;31mParserError\u001b[0m                               Traceback (most recent call last)",
      "\u001b[1;32m<ipython-input-127-888c71850f09>\u001b[0m in \u001b[0;36m<module>\u001b[1;34m()\u001b[0m\n\u001b[0;32m      2\u001b[0m \u001b[0mG2\u001b[0m \u001b[1;33m=\u001b[0m \u001b[0mretweets_G\u001b[0m\u001b[1;33m.\u001b[0m\u001b[0mto_undirected\u001b[0m\u001b[1;33m(\u001b[0m\u001b[1;33m)\u001b[0m\u001b[1;33m\u001b[0m\u001b[0m\n\u001b[0;32m      3\u001b[0m \u001b[0mnx\u001b[0m\u001b[1;33m.\u001b[0m\u001b[0mwrite_edgelist\u001b[0m\u001b[1;33m(\u001b[0m\u001b[0mG2\u001b[0m\u001b[1;33m,\u001b[0m \u001b[1;34m'retweetsG2.csv'\u001b[0m\u001b[1;33m)\u001b[0m\u001b[1;33m\u001b[0m\u001b[0m\n\u001b[1;32m----> 4\u001b[1;33m \u001b[0mg2\u001b[0m \u001b[1;33m=\u001b[0m \u001b[0mpd\u001b[0m\u001b[1;33m.\u001b[0m\u001b[0mread_csv\u001b[0m\u001b[1;33m(\u001b[0m\u001b[1;34m'retweetsG2.csv'\u001b[0m\u001b[1;33m)\u001b[0m\u001b[1;33m\u001b[0m\u001b[0m\n\u001b[0m",
      "\u001b[1;32mC:\\ProgramData\\Anaconda3\\lib\\site-packages\\pandas\\io\\parsers.py\u001b[0m in \u001b[0;36mparser_f\u001b[1;34m(filepath_or_buffer, sep, delimiter, header, names, index_col, usecols, squeeze, prefix, mangle_dupe_cols, dtype, engine, converters, true_values, false_values, skipinitialspace, skiprows, skipfooter, nrows, na_values, keep_default_na, na_filter, verbose, skip_blank_lines, parse_dates, infer_datetime_format, keep_date_col, date_parser, dayfirst, cache_dates, iterator, chunksize, compression, thousands, decimal, lineterminator, quotechar, quoting, doublequote, escapechar, comment, encoding, dialect, error_bad_lines, warn_bad_lines, delim_whitespace, low_memory, memory_map, float_precision)\u001b[0m\n\u001b[0;32m    683\u001b[0m         )\n\u001b[0;32m    684\u001b[0m \u001b[1;33m\u001b[0m\u001b[0m\n\u001b[1;32m--> 685\u001b[1;33m         \u001b[1;32mreturn\u001b[0m \u001b[0m_read\u001b[0m\u001b[1;33m(\u001b[0m\u001b[0mfilepath_or_buffer\u001b[0m\u001b[1;33m,\u001b[0m \u001b[0mkwds\u001b[0m\u001b[1;33m)\u001b[0m\u001b[1;33m\u001b[0m\u001b[0m\n\u001b[0m\u001b[0;32m    686\u001b[0m \u001b[1;33m\u001b[0m\u001b[0m\n\u001b[0;32m    687\u001b[0m     \u001b[0mparser_f\u001b[0m\u001b[1;33m.\u001b[0m\u001b[0m__name__\u001b[0m \u001b[1;33m=\u001b[0m \u001b[0mname\u001b[0m\u001b[1;33m\u001b[0m\u001b[0m\n",
      "\u001b[1;32mC:\\ProgramData\\Anaconda3\\lib\\site-packages\\pandas\\io\\parsers.py\u001b[0m in \u001b[0;36m_read\u001b[1;34m(filepath_or_buffer, kwds)\u001b[0m\n\u001b[0;32m    461\u001b[0m \u001b[1;33m\u001b[0m\u001b[0m\n\u001b[0;32m    462\u001b[0m     \u001b[1;32mtry\u001b[0m\u001b[1;33m:\u001b[0m\u001b[1;33m\u001b[0m\u001b[0m\n\u001b[1;32m--> 463\u001b[1;33m         \u001b[0mdata\u001b[0m \u001b[1;33m=\u001b[0m \u001b[0mparser\u001b[0m\u001b[1;33m.\u001b[0m\u001b[0mread\u001b[0m\u001b[1;33m(\u001b[0m\u001b[0mnrows\u001b[0m\u001b[1;33m)\u001b[0m\u001b[1;33m\u001b[0m\u001b[0m\n\u001b[0m\u001b[0;32m    464\u001b[0m     \u001b[1;32mfinally\u001b[0m\u001b[1;33m:\u001b[0m\u001b[1;33m\u001b[0m\u001b[0m\n\u001b[0;32m    465\u001b[0m         \u001b[0mparser\u001b[0m\u001b[1;33m.\u001b[0m\u001b[0mclose\u001b[0m\u001b[1;33m(\u001b[0m\u001b[1;33m)\u001b[0m\u001b[1;33m\u001b[0m\u001b[0m\n",
      "\u001b[1;32mC:\\ProgramData\\Anaconda3\\lib\\site-packages\\pandas\\io\\parsers.py\u001b[0m in \u001b[0;36mread\u001b[1;34m(self, nrows)\u001b[0m\n\u001b[0;32m   1152\u001b[0m     \u001b[1;32mdef\u001b[0m \u001b[0mread\u001b[0m\u001b[1;33m(\u001b[0m\u001b[0mself\u001b[0m\u001b[1;33m,\u001b[0m \u001b[0mnrows\u001b[0m\u001b[1;33m=\u001b[0m\u001b[1;32mNone\u001b[0m\u001b[1;33m)\u001b[0m\u001b[1;33m:\u001b[0m\u001b[1;33m\u001b[0m\u001b[0m\n\u001b[0;32m   1153\u001b[0m         \u001b[0mnrows\u001b[0m \u001b[1;33m=\u001b[0m \u001b[0m_validate_integer\u001b[0m\u001b[1;33m(\u001b[0m\u001b[1;34m\"nrows\"\u001b[0m\u001b[1;33m,\u001b[0m \u001b[0mnrows\u001b[0m\u001b[1;33m)\u001b[0m\u001b[1;33m\u001b[0m\u001b[0m\n\u001b[1;32m-> 1154\u001b[1;33m         \u001b[0mret\u001b[0m \u001b[1;33m=\u001b[0m \u001b[0mself\u001b[0m\u001b[1;33m.\u001b[0m\u001b[0m_engine\u001b[0m\u001b[1;33m.\u001b[0m\u001b[0mread\u001b[0m\u001b[1;33m(\u001b[0m\u001b[0mnrows\u001b[0m\u001b[1;33m)\u001b[0m\u001b[1;33m\u001b[0m\u001b[0m\n\u001b[0m\u001b[0;32m   1155\u001b[0m \u001b[1;33m\u001b[0m\u001b[0m\n\u001b[0;32m   1156\u001b[0m         \u001b[1;31m# May alter columns / col_dict\u001b[0m\u001b[1;33m\u001b[0m\u001b[1;33m\u001b[0m\u001b[0m\n",
      "\u001b[1;32mC:\\ProgramData\\Anaconda3\\lib\\site-packages\\pandas\\io\\parsers.py\u001b[0m in \u001b[0;36mread\u001b[1;34m(self, nrows)\u001b[0m\n\u001b[0;32m   2057\u001b[0m     \u001b[1;32mdef\u001b[0m \u001b[0mread\u001b[0m\u001b[1;33m(\u001b[0m\u001b[0mself\u001b[0m\u001b[1;33m,\u001b[0m \u001b[0mnrows\u001b[0m\u001b[1;33m=\u001b[0m\u001b[1;32mNone\u001b[0m\u001b[1;33m)\u001b[0m\u001b[1;33m:\u001b[0m\u001b[1;33m\u001b[0m\u001b[0m\n\u001b[0;32m   2058\u001b[0m         \u001b[1;32mtry\u001b[0m\u001b[1;33m:\u001b[0m\u001b[1;33m\u001b[0m\u001b[0m\n\u001b[1;32m-> 2059\u001b[1;33m             \u001b[0mdata\u001b[0m \u001b[1;33m=\u001b[0m \u001b[0mself\u001b[0m\u001b[1;33m.\u001b[0m\u001b[0m_reader\u001b[0m\u001b[1;33m.\u001b[0m\u001b[0mread\u001b[0m\u001b[1;33m(\u001b[0m\u001b[0mnrows\u001b[0m\u001b[1;33m)\u001b[0m\u001b[1;33m\u001b[0m\u001b[0m\n\u001b[0m\u001b[0;32m   2060\u001b[0m         \u001b[1;32mexcept\u001b[0m \u001b[0mStopIteration\u001b[0m\u001b[1;33m:\u001b[0m\u001b[1;33m\u001b[0m\u001b[0m\n\u001b[0;32m   2061\u001b[0m             \u001b[1;32mif\u001b[0m \u001b[0mself\u001b[0m\u001b[1;33m.\u001b[0m\u001b[0m_first_chunk\u001b[0m\u001b[1;33m:\u001b[0m\u001b[1;33m\u001b[0m\u001b[0m\n",
      "\u001b[1;32mpandas/_libs/parsers.pyx\u001b[0m in \u001b[0;36mpandas._libs.parsers.TextReader.read\u001b[1;34m()\u001b[0m\n",
      "\u001b[1;32mpandas/_libs/parsers.pyx\u001b[0m in \u001b[0;36mpandas._libs.parsers.TextReader._read_low_memory\u001b[1;34m()\u001b[0m\n",
      "\u001b[1;32mpandas/_libs/parsers.pyx\u001b[0m in \u001b[0;36mpandas._libs.parsers.TextReader._read_rows\u001b[1;34m()\u001b[0m\n",
      "\u001b[1;32mpandas/_libs/parsers.pyx\u001b[0m in \u001b[0;36mpandas._libs.parsers.TextReader._tokenize_rows\u001b[1;34m()\u001b[0m\n",
      "\u001b[1;32mpandas/_libs/parsers.pyx\u001b[0m in \u001b[0;36mpandas._libs.parsers.raise_parser_error\u001b[1;34m()\u001b[0m\n",
      "\u001b[1;31mParserError\u001b[0m: Error tokenizing data. C error: Expected 6 fields in line 4582, saw 8\n"
     ]
    }
   ],
   "source": [
    "import community\n",
    "G2 = retweets_G.to_undirected()\n",
    "nx.write_edgelist(G2, 'retweetsG2.csv')\n",
    "g2 = pd.read_csv('retweetsG2.csv')"
   ]
  },
  {
   "cell_type": "code",
   "execution_count": null,
   "metadata": {},
   "outputs": [],
   "source": []
  },
  {
   "cell_type": "code",
   "execution_count": 39,
   "metadata": {},
   "outputs": [
    {
     "ename": "AttributeError",
     "evalue": "module 'networkx.algorithms.community' has no attribute 'best_partition'",
     "output_type": "error",
     "traceback": [
      "\u001b[1;31m---------------------------------------------------------------------------\u001b[0m",
      "\u001b[1;31mAttributeError\u001b[0m                            Traceback (most recent call last)",
      "\u001b[1;32m<ipython-input-39-937fb76d2f98>\u001b[0m in \u001b[0;36m<module>\u001b[1;34m()\u001b[0m\n\u001b[1;32m----> 1\u001b[1;33m \u001b[0mpartition\u001b[0m \u001b[1;33m=\u001b[0m \u001b[0mcommunity\u001b[0m\u001b[1;33m.\u001b[0m\u001b[0mbest_partition\u001b[0m\u001b[1;33m(\u001b[0m\u001b[0mretweets_G\u001b[0m\u001b[1;33m)\u001b[0m\u001b[1;33m\u001b[0m\u001b[0m\n\u001b[0m\u001b[0;32m      2\u001b[0m \u001b[1;33m\u001b[0m\u001b[0m\n\u001b[0;32m      3\u001b[0m \u001b[1;31m#drawing\u001b[0m\u001b[1;33m\u001b[0m\u001b[1;33m\u001b[0m\u001b[0m\n\u001b[0;32m      4\u001b[0m \u001b[0msize\u001b[0m \u001b[1;33m=\u001b[0m \u001b[0mfloat\u001b[0m\u001b[1;33m(\u001b[0m\u001b[0mlen\u001b[0m\u001b[1;33m(\u001b[0m\u001b[0mset\u001b[0m\u001b[1;33m(\u001b[0m\u001b[0mpartition\u001b[0m\u001b[1;33m.\u001b[0m\u001b[0mvalues\u001b[0m\u001b[1;33m(\u001b[0m\u001b[1;33m)\u001b[0m\u001b[1;33m)\u001b[0m\u001b[1;33m)\u001b[0m\u001b[1;33m)\u001b[0m\u001b[1;33m\u001b[0m\u001b[0m\n\u001b[0;32m      5\u001b[0m \u001b[0mpos\u001b[0m \u001b[1;33m=\u001b[0m \u001b[0mnx\u001b[0m\u001b[1;33m.\u001b[0m\u001b[0mspring_layout\u001b[0m\u001b[1;33m(\u001b[0m\u001b[0mG\u001b[0m\u001b[1;33m)\u001b[0m\u001b[1;33m\u001b[0m\u001b[0m\n",
      "\u001b[1;31mAttributeError\u001b[0m: module 'networkx.algorithms.community' has no attribute 'best_partition'"
     ]
    }
   ],
   "source": [
    "#drawing\n",
    "size = float(len(set(partition.values())))\n",
    "pos = nx.spring_layout(G)\n",
    "count = 0.\n",
    "for com in set(partition.values()) :\n",
    "    count = count + 1.\n",
    "    list_nodes = [nodes for nodes in partition.keys()\n",
    "                                if partition[nodes] == com]\n",
    "    nx.draw_networkx_nodes(G, pos, list_nodes, node_size = 20,\n",
    "                                node_color = str(count / size))\n",
    "\n",
    "\n",
    "nx.draw_networkx_edges(G, pos, alpha=0.5)\n",
    "plt.show()"
   ]
  },
  {
   "cell_type": "markdown",
   "metadata": {},
   "source": [
    "\n",
    "Community detection using the Girvan-Newman method\n",
    "\n",
    "The idea is there will be 2 large communities"
   ]
  },
  {
   "cell_type": "code",
   "execution_count": null,
   "metadata": {},
   "outputs": [],
   "source": [
    "from random import random\n",
    "def most_central_edge(G):\n",
    "    centrality = nx.edge_betweenness_centrality(G)\n",
    "    max_cent = max(centrality.values())\n",
    "    # Scale the centrality values so they are between 0 and 1,\n",
    "    # and add some random noise.\n",
    "    centrality = {e: c / max_cent for e, c in centrality.items()}\n",
    "    # Add some random noise.\n",
    "    cemntrality = {e: c + random() for e, c in centrality.items()}\n",
    "    return max(centrality, key=centrality.get)\n",
    "\n",
    "import copy\n",
    "\n",
    "loops = copy.deepcopy(list(nx.selfloop_edges(retweets_G)))\n",
    "retweets_G.remove_edges_from(loops)\n",
    "\n",
    "comp = nx.algorithms.community.centrality.girvan_newman(retweets_G, most_valuable_edge=most_central_edge)\n",
    "\n",
    "d = tuple(sorted(c) for c in next(comp))\n",
    "for community in d:\n",
    "    print(len(community))"
   ]
  },
  {
   "cell_type": "code",
   "execution_count": null,
   "metadata": {},
   "outputs": [],
   "source": [
    "gn_dict_communities = {}\n",
    "\n",
    "for i, c in enumerate(d):\n",
    "    print (\"Community {}\".format(i))\n",
    "    for node in c:\n",
    "        gn_dict_communities[node] = i + 1\n",
    "        \n",
    "for node in retweets_G:\n",
    "    if node not in gn_dict_communities.keys():\n",
    "        gn_dict_communities[node] = -1"
   ]
  },
  {
   "cell_type": "code",
   "execution_count": null,
   "metadata": {},
   "outputs": [],
   "source": []
  }
 ],
 "metadata": {
  "kernelspec": {
   "display_name": "Python 3",
   "language": "python",
   "name": "python3"
  },
  "language_info": {
   "codemirror_mode": {
    "name": "ipython",
    "version": 3
   },
   "file_extension": ".py",
   "mimetype": "text/x-python",
   "name": "python",
   "nbconvert_exporter": "python",
   "pygments_lexer": "ipython3",
   "version": "3.7.0"
  }
 },
 "nbformat": 4,
 "nbformat_minor": 2
}
